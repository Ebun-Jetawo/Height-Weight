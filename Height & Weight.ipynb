{
 "cells": [
  {
   "cell_type": "code",
   "execution_count": 62,
   "id": "24b6b443",
   "metadata": {},
   "outputs": [],
   "source": [
    "from sklearn.linear_model import LinearRegression\n",
    "import pandas\n",
    "dt = pandas.read_csv('height_and_weight.csv')"
   ]
  },
  {
   "cell_type": "code",
   "execution_count": 63,
   "id": "d2c838c2",
   "metadata": {},
   "outputs": [],
   "source": [
    "dt.drop(columns=['Index'], inplace = True)"
   ]
  },
  {
   "cell_type": "code",
   "execution_count": 64,
   "id": "9cc80e23",
   "metadata": {},
   "outputs": [],
   "source": [
    "#from sklearn.model_selection import train_test_split\n",
    "height = dt.drop(columns=['Weight(lbs)'])\n",
    "weight = dt.drop(columns=['Height(In)'])\n",
    "\n",
    "#Training Set\n",
    "inp_X = height.values[:180]\n",
    "out_Y = weight.values[:180]\n",
    "\n",
    "#Testing Set\n",
    "tst_X = height.values[180:]\n",
    "tst_Y = weight.values[180:]\n",
    "\n",
    "#inp_X, tst_X, out_Y, tst_Y = train_test_split(height, weight, test_size = 0.1)"
   ]
  },
  {
   "cell_type": "code",
   "execution_count": 65,
   "id": "55e34db5",
   "metadata": {},
   "outputs": [
    {
     "data": {
      "text/plain": [
       "LinearRegression()"
      ]
     },
     "execution_count": 65,
     "metadata": {},
     "output_type": "execute_result"
    }
   ],
   "source": [
    "Model = LinearRegression()\n",
    "Model.fit(inp_X,out_Y)"
   ]
  },
  {
   "cell_type": "code",
   "execution_count": 66,
   "id": "8389d27c",
   "metadata": {},
   "outputs": [],
   "source": [
    "pred_Y = Model.predict(tst_X)"
   ]
  },
  {
   "cell_type": "code",
   "execution_count": 67,
   "id": "3f2542bd",
   "metadata": {},
   "outputs": [
    {
     "data": {
      "text/plain": [
       "<AxesSubplot:>"
      ]
     },
     "execution_count": 67,
     "metadata": {},
     "output_type": "execute_result"
    },
    {
     "data": {
      "image/png": "[encoded data removed]",
      "text/plain": [
       "<Figure size 720x432 with 1 Axes>"
      ]
     },
     "metadata": {
      "needs_background": "light"
     },
     "output_type": "display_data"
    }
   ],
   "source": [
    "cmp = pandas.DataFrame({'Predicted Values':pred_Y.flatten(),\n",
    "                         'Actual Values':tst_Y.flatten()})\n",
    "cmp.plot.bar(figsize=(10,6))"
   ]
  },
  {
   "cell_type": "code",
   "execution_count": 61,
   "id": "8a22bf77",
   "metadata": {},
   "outputs": [
    {
     "data": {
      "text/plain": [
       "[<matplotlib.lines.Line2D at 0x2a7dcd76730>]"
      ]
     },
     "execution_count": 61,
     "metadata": {},
     "output_type": "execute_result"
    },
    {
     "data": {
      "image/png": "[encoded data removed]",
      "text/plain": [
       "<Figure size 432x288 with 1 Axes>"
      ]
     },
     "metadata": {
      "needs_background": "light"
     },
     "output_type": "display_data"
    }
   ],
   "source": [
    "from matplotlib import pyplot\n",
    "pyplot.scatter(tst_X, tst_Y, color = 'black')\n",
    "pyplot.plot(tst_X, pred_Y, color = 'yellow')"
   ]
  },
  {
   "cell_type": "code",
   "execution_count": 68,
   "id": "54408944",
   "metadata": {},
   "outputs": [
    {
     "data": {
      "text/plain": [
       "26.103262068968718"
      ]
     },
     "execution_count": 68,
     "metadata": {},
     "output_type": "execute_result"
    }
   ],
   "source": [
    "from sklearn import metrics\n",
    "metrics.max_error(tst_Y, pred_Y)"
   ]
  },
  {
   "cell_type": "code",
   "execution_count": 69,
   "id": "5f4bfde2",
   "metadata": {},
   "outputs": [
    {
     "data": {
      "text/plain": [
       "8.620489049733717"
      ]
     },
     "execution_count": 69,
     "metadata": {},
     "output_type": "execute_result"
    }
   ],
   "source": [
    "from sklearn import metrics\n",
    "metrics.mean_absolute_error(tst_Y, pred_Y)"
   ]
  },
  {
   "cell_type": "code",
   "execution_count": null,
   "id": "b846d720",
   "metadata": {},
   "outputs": [],
   "source": []
  }
 ],
 "metadata": {
  "kernelspec": {
   "display_name": "Python 3 (ipykernel)",
   "language": "python",
   "name": "python3"
  },
  "language_info": {
   "codemirror_mode": {
    "name": "ipython",
    "version": 3
   },
   "file_extension": ".py",
   "mimetype": "text/x-python",
   "name": "python",
   "nbconvert_exporter": "python",
   "pygments_lexer": "ipython3",
   "version": "3.9.7"
  }
 },
 "nbformat": 4,
 "nbformat_minor": 5
}
